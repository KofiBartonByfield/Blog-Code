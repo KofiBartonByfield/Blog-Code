{
 "cells": [
  {
   "cell_type": "markdown",
   "id": "8a112bae",
   "metadata": {},
   "source": [
    "# Blog Code"
   ]
  },
  {
   "cell_type": "markdown",
   "id": "ddd4a040",
   "metadata": {},
   "source": [
    "## Import packages"
   ]
  },
  {
   "cell_type": "code",
   "execution_count": 1,
   "id": "d65e4ae1",
   "metadata": {},
   "outputs": [],
   "source": [
    "import requests\n",
    "from bs4 import BeautifulSoup \n",
    "import pandas as pd\n",
    "import matplotlib.pyplot as plt\n",
    "import seaborn as sns\n",
    "import numpy as np"
   ]
  },
  {
   "cell_type": "markdown",
   "id": "0633f32c",
   "metadata": {},
   "source": [
    "## Web Scraping:\n",
    "### HIV Data"
   ]
  },
  {
   "cell_type": "code",
   "execution_count": 6,
   "id": "093f64d1",
   "metadata": {},
   "outputs": [
    {
     "data": {
      "text/html": [
       "<div>\n",
       "<style scoped>\n",
       "    .dataframe tbody tr th:only-of-type {\n",
       "        vertical-align: middle;\n",
       "    }\n",
       "\n",
       "    .dataframe tbody tr th {\n",
       "        vertical-align: top;\n",
       "    }\n",
       "\n",
       "    .dataframe thead th {\n",
       "        text-align: right;\n",
       "    }\n",
       "</style>\n",
       "<table border=\"1\" class=\"dataframe\">\n",
       "  <thead>\n",
       "    <tr style=\"text-align: right;\">\n",
       "      <th></th>\n",
       "      <th>Country</th>\n",
       "      <th>Adult prevalenceof HIV/AIDS</th>\n",
       "      <th>Number of peoplewith HIV/AIDS</th>\n",
       "      <th>Annual deathsfrom HIV/AIDS</th>\n",
       "      <th>Year</th>\n",
       "    </tr>\n",
       "  </thead>\n",
       "  <tbody>\n",
       "    <tr>\n",
       "      <th>0</th>\n",
       "      <td>Eswatini</td>\n",
       "      <td>28.30%</td>\n",
       "      <td>240,000</td>\n",
       "      <td>3,000</td>\n",
       "      <td>2024</td>\n",
       "    </tr>\n",
       "    <tr>\n",
       "      <th>1</th>\n",
       "      <td>Lesotho</td>\n",
       "      <td>24.10%</td>\n",
       "      <td>403,000</td>\n",
       "      <td>5,380</td>\n",
       "      <td>2024</td>\n",
       "    </tr>\n",
       "    <tr>\n",
       "      <th>2</th>\n",
       "      <td>Botswana</td>\n",
       "      <td>22.60%</td>\n",
       "      <td>398,500</td>\n",
       "      <td>5,240</td>\n",
       "      <td>2024</td>\n",
       "    </tr>\n",
       "    <tr>\n",
       "      <th>3</th>\n",
       "      <td>Zimbabwe</td>\n",
       "      <td>22.10%</td>\n",
       "      <td>1,660,000</td>\n",
       "      <td>25,600</td>\n",
       "      <td>2024</td>\n",
       "    </tr>\n",
       "    <tr>\n",
       "      <th>4</th>\n",
       "      <td>South Africa</td>\n",
       "      <td>14%</td>\n",
       "      <td>9,230,000</td>\n",
       "      <td>77,000</td>\n",
       "      <td>2024</td>\n",
       "    </tr>\n",
       "    <tr>\n",
       "      <th>...</th>\n",
       "      <td>...</td>\n",
       "      <td>...</td>\n",
       "      <td>...</td>\n",
       "      <td>...</td>\n",
       "      <td>...</td>\n",
       "    </tr>\n",
       "    <tr>\n",
       "      <th>181</th>\n",
       "      <td>Mongolia</td>\n",
       "      <td>-</td>\n",
       "      <td>2,500</td>\n",
       "      <td>-</td>\n",
       "      <td>2024</td>\n",
       "    </tr>\n",
       "    <tr>\n",
       "      <th>182</th>\n",
       "      <td>British Virgin Islands</td>\n",
       "      <td>-</td>\n",
       "      <td>48</td>\n",
       "      <td>-</td>\n",
       "      <td>2024</td>\n",
       "    </tr>\n",
       "    <tr>\n",
       "      <th>183</th>\n",
       "      <td>American Samoa</td>\n",
       "      <td>-</td>\n",
       "      <td>110</td>\n",
       "      <td>-</td>\n",
       "      <td>2023</td>\n",
       "    </tr>\n",
       "    <tr>\n",
       "      <th>184</th>\n",
       "      <td>Nauru</td>\n",
       "      <td>-</td>\n",
       "      <td>270</td>\n",
       "      <td>-</td>\n",
       "      <td>2024</td>\n",
       "    </tr>\n",
       "    <tr>\n",
       "      <th>185</th>\n",
       "      <td>Marshall Islands</td>\n",
       "      <td>-</td>\n",
       "      <td>19</td>\n",
       "      <td>-</td>\n",
       "      <td>2024</td>\n",
       "    </tr>\n",
       "  </tbody>\n",
       "</table>\n",
       "<p>186 rows × 5 columns</p>\n",
       "</div>"
      ],
      "text/plain": [
       "                    Country Adult prevalenceof HIV/AIDS  \\\n",
       "0                  Eswatini                      28.30%   \n",
       "1                   Lesotho                      24.10%   \n",
       "2                  Botswana                      22.60%   \n",
       "3                  Zimbabwe                      22.10%   \n",
       "4              South Africa                         14%   \n",
       "..                      ...                         ...   \n",
       "181                Mongolia                           -   \n",
       "182  British Virgin Islands                           -   \n",
       "183          American Samoa                           -   \n",
       "184                   Nauru                           -   \n",
       "185        Marshall Islands                           -   \n",
       "\n",
       "    Number of peoplewith HIV/AIDS Annual deathsfrom HIV/AIDS  Year  \n",
       "0                         240,000                      3,000  2024  \n",
       "1                         403,000                      5,380  2024  \n",
       "2                         398,500                      5,240  2024  \n",
       "3                       1,660,000                     25,600  2024  \n",
       "4                       9,230,000                     77,000  2024  \n",
       "..                            ...                        ...   ...  \n",
       "181                         2,500                          -  2024  \n",
       "182                            48                          -  2024  \n",
       "183                           110                          -  2023  \n",
       "184                           270                          -  2024  \n",
       "185                            19                          -  2024  \n",
       "\n",
       "[186 rows x 5 columns]"
      ]
     },
     "metadata": {},
     "output_type": "display_data"
    }
   ],
   "source": [
    "HIV_data = []\n",
    "\n",
    "url = 'https://en.wikipedia.org/wiki/List_of_countries_by_HIV/AIDS_adult_prevalence_rate'\n",
    "\n",
    "# Send a GET request to the URL\n",
    "response = requests.get(url)\n",
    "\n",
    "# Parse the HTML content using BeautifulSoup\n",
    "soup = BeautifulSoup(response.text, 'html.parser')\n",
    "\n",
    "# Find the table with the class 'wikitable sortable'\n",
    "table = soup.find('table', {'class': 'wikitable sortable static-row-numbers'})\n",
    "\n",
    "# Extract data from the table\n",
    "rows = table.find_all('tr')  # Find all rows in the table\n",
    "\n",
    "for row in rows[1:]:\n",
    "    # Extract data from each cell in the row\n",
    "    cells = row.find_all(['th', 'td'])\n",
    "    row_data = [cell.get_text(strip=True) for cell in cells]\n",
    "    \n",
    "    # Append row data to HIV_data\n",
    "    HIV_data.append(row_data)\n",
    "\n",
    "\n",
    "# Extract headers from the first row\n",
    "headers = [header.get_text(strip=True) for header in rows[0].find_all('th')]\n",
    "\n",
    "# Convert HIV_data into a pandas DataFrame\n",
    "HIV_df = pd.DataFrame(HIV_data, columns=headers)\n",
    "\n",
    "# rename some columns\n",
    "HIV_df.rename(columns={'Country/Region': 'Country'}, inplace=True)\n",
    "HIV_df.rename(columns={'Adult prevalenceof HIV/AIDS[1]': 'Adult prevalenceof HIV/AIDS'}, inplace=True)\n",
    "HIV_df.rename(columns={'Annual deathsfrom HIV/AIDS[3]': 'Annual deathsfrom HIV/AIDS'}, inplace=True)\n",
    "HIV_df.rename(columns={'Year of estimate': 'Year'}, inplace=True)\n",
    "\n",
    "\n",
    "\n",
    "display(HIV_df)"
   ]
  },
  {
   "cell_type": "markdown",
   "id": "dbe8e051",
   "metadata": {},
   "source": [
    "### Population Data"
   ]
  },
  {
   "cell_type": "code",
   "execution_count": 12,
   "id": "840a0847",
   "metadata": {},
   "outputs": [
    {
     "data": {
      "text/html": [
       "<div>\n",
       "<style scoped>\n",
       "    .dataframe tbody tr th:only-of-type {\n",
       "        vertical-align: middle;\n",
       "    }\n",
       "\n",
       "    .dataframe tbody tr th {\n",
       "        vertical-align: top;\n",
       "    }\n",
       "\n",
       "    .dataframe thead th {\n",
       "        text-align: right;\n",
       "    }\n",
       "</style>\n",
       "<table border=\"1\" class=\"dataframe\">\n",
       "  <thead>\n",
       "    <tr style=\"text-align: right;\">\n",
       "      <th></th>\n",
       "      <th>Country</th>\n",
       "      <th>Population</th>\n",
       "    </tr>\n",
       "  </thead>\n",
       "  <tbody>\n",
       "    <tr>\n",
       "      <th>0</th>\n",
       "      <td>World</td>\n",
       "      <td>8,097,611,000</td>\n",
       "    </tr>\n",
       "    <tr>\n",
       "      <th>1</th>\n",
       "      <td>China</td>\n",
       "      <td>1,409,670,000</td>\n",
       "    </tr>\n",
       "    <tr>\n",
       "      <th>2</th>\n",
       "      <td>1,392,329,000</td>\n",
       "      <td>17.2%</td>\n",
       "    </tr>\n",
       "    <tr>\n",
       "      <th>3</th>\n",
       "      <td>United States</td>\n",
       "      <td>335,893,238</td>\n",
       "    </tr>\n",
       "    <tr>\n",
       "      <th>4</th>\n",
       "      <td>Indonesia</td>\n",
       "      <td>279,118,866</td>\n",
       "    </tr>\n",
       "    <tr>\n",
       "      <th>...</th>\n",
       "      <td>...</td>\n",
       "      <td>...</td>\n",
       "    </tr>\n",
       "    <tr>\n",
       "      <th>236</th>\n",
       "      <td>Niue</td>\n",
       "      <td>1,689</td>\n",
       "    </tr>\n",
       "    <tr>\n",
       "      <th>237</th>\n",
       "      <td>Tokelau(NZ)</td>\n",
       "      <td>1,647</td>\n",
       "    </tr>\n",
       "    <tr>\n",
       "      <th>238</th>\n",
       "      <td>Vatican City</td>\n",
       "      <td>764</td>\n",
       "    </tr>\n",
       "    <tr>\n",
       "      <th>239</th>\n",
       "      <td>Cocos (Keeling) Islands(Australia)</td>\n",
       "      <td>593</td>\n",
       "    </tr>\n",
       "    <tr>\n",
       "      <th>240</th>\n",
       "      <td>Pitcairn Islands(UK)</td>\n",
       "      <td>47</td>\n",
       "    </tr>\n",
       "  </tbody>\n",
       "</table>\n",
       "<p>241 rows × 2 columns</p>\n",
       "</div>"
      ],
      "text/plain": [
       "                                Country     Population\n",
       "0                                 World  8,097,611,000\n",
       "1                                 China  1,409,670,000\n",
       "2                         1,392,329,000          17.2%\n",
       "3                         United States    335,893,238\n",
       "4                             Indonesia    279,118,866\n",
       "..                                  ...            ...\n",
       "236                                Niue          1,689\n",
       "237                         Tokelau(NZ)          1,647\n",
       "238                        Vatican City            764\n",
       "239  Cocos (Keeling) Islands(Australia)            593\n",
       "240                Pitcairn Islands(UK)             47\n",
       "\n",
       "[241 rows x 2 columns]"
      ]
     },
     "metadata": {},
     "output_type": "display_data"
    }
   ],
   "source": [
    "Pop_data = []\n",
    "\n",
    "url = 'https://en.wikipedia.org/wiki/List_of_countries_and_dependencies_by_population'\n",
    "\n",
    "# Send a GET request to the URL\n",
    "response = requests.get(url)\n",
    "\n",
    "# Parse the HTML content using BeautifulSoup\n",
    "soup = BeautifulSoup(response.text, 'html.parser')\n",
    "\n",
    "# Find the table with the class 'wikitable sortable'\n",
    "table = soup.find('table',\n",
    "                  {'class': 'wikitable sortable sticky-header sort-under mw-datatable col2left col6left'})\n",
    "\n",
    "# Extract data from the table\n",
    "rows = table.find_all('tr')  # Find all rows in the table\n",
    "\n",
    "\n",
    "\n",
    "for row in rows[1:]:\n",
    "    # Extract data from each cell in the row\n",
    "    cells = row.find_all(['th', 'td'])\n",
    "    row_data = [cell.get_text(strip=True) for cell in cells]\n",
    "    \n",
    "    # Append row data to HIV_data\n",
    "    Pop_data.append(row_data)\n",
    "\n",
    "\n",
    "\n",
    "# Extract headers from the first row\n",
    "headers = [header.get_text(strip=True) for header in rows[0].find_all('th')]\n",
    "\n",
    "# Convert HIV_data into a pandas DataFrame\n",
    "Pop_df = pd.DataFrame(Pop_data, columns=headers)\n",
    "\n",
    "# remove unwanted columns\n",
    "Pop_df = Pop_df.drop(columns=['Date' , '' , '% ofworld', 'Source (official or fromtheUnited Nations)'])\n",
    "\n",
    "# rename the country column\n",
    "Pop_df.rename(columns={'Location': 'Country'}, inplace=True)\n",
    "\n",
    "display(Pop_df)"
   ]
  },
  {
   "cell_type": "markdown",
   "id": "a108acae",
   "metadata": {},
   "source": [
    "### Merge the two DataFrames"
   ]
  },
  {
   "cell_type": "code",
   "execution_count": 50,
   "id": "17ed0772",
   "metadata": {},
   "outputs": [
    {
     "data": {
      "text/html": [
       "<div>\n",
       "<style scoped>\n",
       "    .dataframe tbody tr th:only-of-type {\n",
       "        vertical-align: middle;\n",
       "    }\n",
       "\n",
       "    .dataframe tbody tr th {\n",
       "        vertical-align: top;\n",
       "    }\n",
       "\n",
       "    .dataframe thead th {\n",
       "        text-align: right;\n",
       "    }\n",
       "</style>\n",
       "<table border=\"1\" class=\"dataframe\">\n",
       "  <thead>\n",
       "    <tr style=\"text-align: right;\">\n",
       "      <th></th>\n",
       "      <th>% of adults with HIV/AIDS</th>\n",
       "      <th>Number of peoplewith HIV/AIDS</th>\n",
       "      <th>Annual deathsfrom HIV/AIDS</th>\n",
       "      <th>Year</th>\n",
       "      <th>Population</th>\n",
       "    </tr>\n",
       "    <tr>\n",
       "      <th>Country</th>\n",
       "      <th></th>\n",
       "      <th></th>\n",
       "      <th></th>\n",
       "      <th></th>\n",
       "      <th></th>\n",
       "    </tr>\n",
       "  </thead>\n",
       "  <tbody>\n",
       "    <tr>\n",
       "      <th>Eswatini</th>\n",
       "      <td>28</td>\n",
       "      <td>240000</td>\n",
       "      <td>3000</td>\n",
       "      <td>2024</td>\n",
       "      <td>1223362</td>\n",
       "    </tr>\n",
       "    <tr>\n",
       "      <th>Lesotho</th>\n",
       "      <td>24</td>\n",
       "      <td>403000</td>\n",
       "      <td>5380</td>\n",
       "      <td>2024</td>\n",
       "      <td>2306000</td>\n",
       "    </tr>\n",
       "    <tr>\n",
       "      <th>Botswana</th>\n",
       "      <td>22</td>\n",
       "      <td>398500</td>\n",
       "      <td>5240</td>\n",
       "      <td>2024</td>\n",
       "      <td>2410338</td>\n",
       "    </tr>\n",
       "    <tr>\n",
       "      <th>Zimbabwe</th>\n",
       "      <td>22</td>\n",
       "      <td>1660000</td>\n",
       "      <td>25600</td>\n",
       "      <td>2024</td>\n",
       "      <td>15178979</td>\n",
       "    </tr>\n",
       "    <tr>\n",
       "      <th>SouthAfrica</th>\n",
       "      <td>14</td>\n",
       "      <td>9230000</td>\n",
       "      <td>77000</td>\n",
       "      <td>2024</td>\n",
       "      <td>62027503</td>\n",
       "    </tr>\n",
       "    <tr>\n",
       "      <th>...</th>\n",
       "      <td>...</td>\n",
       "      <td>...</td>\n",
       "      <td>...</td>\n",
       "      <td>...</td>\n",
       "      <td>...</td>\n",
       "    </tr>\n",
       "    <tr>\n",
       "      <th>Greece</th>\n",
       "      <td>-</td>\n",
       "      <td>1100</td>\n",
       "      <td>-</td>\n",
       "      <td>2024</td>\n",
       "      <td>10413982</td>\n",
       "    </tr>\n",
       "    <tr>\n",
       "      <th>Vanuatu</th>\n",
       "      <td>-</td>\n",
       "      <td>325</td>\n",
       "      <td>-</td>\n",
       "      <td>2023</td>\n",
       "      <td>301295</td>\n",
       "    </tr>\n",
       "    <tr>\n",
       "      <th>Mongolia</th>\n",
       "      <td>-</td>\n",
       "      <td>2500</td>\n",
       "      <td>-</td>\n",
       "      <td>2024</td>\n",
       "      <td>3457548</td>\n",
       "    </tr>\n",
       "    <tr>\n",
       "      <th>Nauru</th>\n",
       "      <td>-</td>\n",
       "      <td>270</td>\n",
       "      <td>-</td>\n",
       "      <td>2024</td>\n",
       "      <td>11680</td>\n",
       "    </tr>\n",
       "    <tr>\n",
       "      <th>MarshallIslands</th>\n",
       "      <td>-</td>\n",
       "      <td>19</td>\n",
       "      <td>-</td>\n",
       "      <td>2024</td>\n",
       "      <td>42418</td>\n",
       "    </tr>\n",
       "  </tbody>\n",
       "</table>\n",
       "<p>162 rows × 5 columns</p>\n",
       "</div>"
      ],
      "text/plain": [
       "                % of adults with HIV/AIDS Number of peoplewith HIV/AIDS  \\\n",
       "Country                                                                   \n",
       "Eswatini                               28                        240000   \n",
       "Lesotho                                24                        403000   \n",
       "Botswana                               22                        398500   \n",
       "Zimbabwe                               22                       1660000   \n",
       "SouthAfrica                            14                       9230000   \n",
       "...                                   ...                           ...   \n",
       "Greece                                  -                          1100   \n",
       "Vanuatu                                 -                           325   \n",
       "Mongolia                                -                          2500   \n",
       "Nauru                                   -                           270   \n",
       "MarshallIslands                         -                            19   \n",
       "\n",
       "                Annual deathsfrom HIV/AIDS  Year Population  \n",
       "Country                                                      \n",
       "Eswatini                              3000  2024    1223362  \n",
       "Lesotho                               5380  2024    2306000  \n",
       "Botswana                              5240  2024    2410338  \n",
       "Zimbabwe                             25600  2024   15178979  \n",
       "SouthAfrica                          77000  2024   62027503  \n",
       "...                                    ...   ...        ...  \n",
       "Greece                                   -  2024   10413982  \n",
       "Vanuatu                                  -  2023     301295  \n",
       "Mongolia                                 -  2024    3457548  \n",
       "Nauru                                    -  2024      11680  \n",
       "MarshallIslands                          -  2024      42418  \n",
       "\n",
       "[162 rows x 5 columns]"
      ]
     },
     "metadata": {},
     "output_type": "display_data"
    }
   ],
   "source": [
    "\n",
    "# Merge the dataframes based on the 'Country' column\n",
    "merged_df = pd.merge(HIV_df, Pop_df, on='Country', how='inner')\n",
    "\n",
    "# Iterate over each column and remove unwanted characters\n",
    "for column in merged_df.columns:\n",
    "    if merged_df[column].dtype == 'object':  # Check if the column contains strings\n",
    "        merged_df[column] = merged_df[column].str.replace(',', '').str.replace(' ', '') .str.replace('%','')\n",
    "\n",
    "# rename a heading\n",
    "merged_df.rename(columns={'Adult prevalenceof HIV/AIDS': '% of adults with HIV/AIDS'}, inplace=True)\n",
    "\n",
    "\n",
    "for column in merged_df.columns:\n",
    "    if merged_df[column].dtype == 'object':  # Check if the column contains strings\n",
    "        merged_df[column] = merged_df[column].str.split('.').str[0]\n",
    "\n",
    "# convert data to float for plotting\n",
    "#merged_df['% of adults with HIV/AIDS'] = merged_df['% of adults with HIV/AIDS'].astype(int)\n",
    "\n",
    "merged_df.set_index('Country', inplace=True)\n",
    "\n",
    "\n",
    "\n",
    "\n",
    "display(merged_df)"
   ]
  },
  {
   "cell_type": "markdown",
   "id": "c9ffbcb2",
   "metadata": {},
   "source": [
    "### HIV Time Data"
   ]
  },
  {
   "cell_type": "code",
   "execution_count": 39,
   "id": "f38277d9",
   "metadata": {},
   "outputs": [
    {
     "data": {
      "text/html": [
       "<div>\n",
       "<style scoped>\n",
       "    .dataframe tbody tr th:only-of-type {\n",
       "        vertical-align: middle;\n",
       "    }\n",
       "\n",
       "    .dataframe tbody tr th {\n",
       "        vertical-align: top;\n",
       "    }\n",
       "\n",
       "    .dataframe thead th {\n",
       "        text-align: right;\n",
       "    }\n",
       "</style>\n",
       "<table border=\"1\" class=\"dataframe\">\n",
       "  <thead>\n",
       "    <tr style=\"text-align: right;\">\n",
       "      <th></th>\n",
       "      <th>HIV</th>\n",
       "      <th>AIDS</th>\n",
       "      <th>HIV stigma</th>\n",
       "      <th>antiretroviral HIV</th>\n",
       "      <th>prep HIV</th>\n",
       "    </tr>\n",
       "    <tr>\n",
       "      <th>Year</th>\n",
       "      <th></th>\n",
       "      <th></th>\n",
       "      <th></th>\n",
       "      <th></th>\n",
       "      <th></th>\n",
       "    </tr>\n",
       "  </thead>\n",
       "  <tbody>\n",
       "    <tr>\n",
       "      <th>1980</th>\n",
       "      <td>2040</td>\n",
       "      <td>20300</td>\n",
       "      <td>329</td>\n",
       "      <td>17</td>\n",
       "      <td>416</td>\n",
       "    </tr>\n",
       "    <tr>\n",
       "      <th>1985</th>\n",
       "      <td>3230</td>\n",
       "      <td>30400</td>\n",
       "      <td>414</td>\n",
       "      <td>45</td>\n",
       "      <td>508</td>\n",
       "    </tr>\n",
       "    <tr>\n",
       "      <th>1990</th>\n",
       "      <td>29100</td>\n",
       "      <td>92400</td>\n",
       "      <td>1560</td>\n",
       "      <td>631</td>\n",
       "      <td>937</td>\n",
       "    </tr>\n",
       "    <tr>\n",
       "      <th>1995</th>\n",
       "      <td>74300</td>\n",
       "      <td>163000</td>\n",
       "      <td>2340</td>\n",
       "      <td>1750</td>\n",
       "      <td>1390</td>\n",
       "    </tr>\n",
       "    <tr>\n",
       "      <th>2000</th>\n",
       "      <td>182000</td>\n",
       "      <td>239000</td>\n",
       "      <td>4350</td>\n",
       "      <td>7990</td>\n",
       "      <td>2080</td>\n",
       "    </tr>\n",
       "    <tr>\n",
       "      <th>2002</th>\n",
       "      <td>215000</td>\n",
       "      <td>309000</td>\n",
       "      <td>6370</td>\n",
       "      <td>10200</td>\n",
       "      <td>2080</td>\n",
       "    </tr>\n",
       "    <tr>\n",
       "      <th>2004</th>\n",
       "      <td>291000</td>\n",
       "      <td>378000</td>\n",
       "      <td>8280</td>\n",
       "      <td>13800</td>\n",
       "      <td>2590</td>\n",
       "    </tr>\n",
       "    <tr>\n",
       "      <th>2006</th>\n",
       "      <td>340000</td>\n",
       "      <td>449000</td>\n",
       "      <td>10600</td>\n",
       "      <td>16900</td>\n",
       "      <td>3120</td>\n",
       "    </tr>\n",
       "    <tr>\n",
       "      <th>2008</th>\n",
       "      <td>420000</td>\n",
       "      <td>474000</td>\n",
       "      <td>11800</td>\n",
       "      <td>21100</td>\n",
       "      <td>3820</td>\n",
       "    </tr>\n",
       "    <tr>\n",
       "      <th>2010</th>\n",
       "      <td>461000</td>\n",
       "      <td>492000</td>\n",
       "      <td>15500</td>\n",
       "      <td>22800</td>\n",
       "      <td>4530</td>\n",
       "    </tr>\n",
       "    <tr>\n",
       "      <th>2012</th>\n",
       "      <td>467000</td>\n",
       "      <td>545000</td>\n",
       "      <td>18300</td>\n",
       "      <td>27000</td>\n",
       "      <td>6040</td>\n",
       "    </tr>\n",
       "    <tr>\n",
       "      <th>2014</th>\n",
       "      <td>400000</td>\n",
       "      <td>436000</td>\n",
       "      <td>21400</td>\n",
       "      <td>29900</td>\n",
       "      <td>7300</td>\n",
       "    </tr>\n",
       "    <tr>\n",
       "      <th>2016</th>\n",
       "      <td>259000</td>\n",
       "      <td>292000</td>\n",
       "      <td>23700</td>\n",
       "      <td>29600</td>\n",
       "      <td>8340</td>\n",
       "    </tr>\n",
       "    <tr>\n",
       "      <th>2017</th>\n",
       "      <td>230000</td>\n",
       "      <td>241000</td>\n",
       "      <td>24700</td>\n",
       "      <td>29600</td>\n",
       "      <td>8900</td>\n",
       "    </tr>\n",
       "    <tr>\n",
       "      <th>2018</th>\n",
       "      <td>164000</td>\n",
       "      <td>159000</td>\n",
       "      <td>25600</td>\n",
       "      <td>28500</td>\n",
       "      <td>9960</td>\n",
       "    </tr>\n",
       "    <tr>\n",
       "      <th>2019</th>\n",
       "      <td>146000</td>\n",
       "      <td>127000</td>\n",
       "      <td>26200</td>\n",
       "      <td>27600</td>\n",
       "      <td>11500</td>\n",
       "    </tr>\n",
       "    <tr>\n",
       "      <th>2020</th>\n",
       "      <td>104000</td>\n",
       "      <td>108000</td>\n",
       "      <td>25700</td>\n",
       "      <td>28000</td>\n",
       "      <td>12800</td>\n",
       "    </tr>\n",
       "  </tbody>\n",
       "</table>\n",
       "</div>"
      ],
      "text/plain": [
       "         HIV    AIDS  HIV stigma  antiretroviral HIV  prep HIV\n",
       "Year                                                          \n",
       "1980    2040   20300         329                  17       416\n",
       "1985    3230   30400         414                  45       508\n",
       "1990   29100   92400        1560                 631       937\n",
       "1995   74300  163000        2340                1750      1390\n",
       "2000  182000  239000        4350                7990      2080\n",
       "2002  215000  309000        6370               10200      2080\n",
       "2004  291000  378000        8280               13800      2590\n",
       "2006  340000  449000       10600               16900      3120\n",
       "2008  420000  474000       11800               21100      3820\n",
       "2010  461000  492000       15500               22800      4530\n",
       "2012  467000  545000       18300               27000      6040\n",
       "2014  400000  436000       21400               29900      7300\n",
       "2016  259000  292000       23700               29600      8340\n",
       "2017  230000  241000       24700               29600      8900\n",
       "2018  164000  159000       25600               28500      9960\n",
       "2019  146000  127000       26200               27600     11500\n",
       "2020  104000  108000       25700               28000     12800"
      ]
     },
     "execution_count": 39,
     "metadata": {},
     "output_type": "execute_result"
    }
   ],
   "source": [
    "\n",
    "HIV_time_data = []\n",
    "\n",
    "url = 'https://timelines.issarice.com/wiki/Timeline_of_HIV/AIDS'\n",
    "\n",
    "# Send a GET request to the URL\n",
    "response = requests.get(url)\n",
    "\n",
    "# Parse the HTML content using BeautifulSoup\n",
    "soup = BeautifulSoup(response.text, 'html.parser')\n",
    "\n",
    "# Find all tables with the class 'wikitable sortable'\n",
    "tables = soup.find_all('table', {'class': 'sortable wikitable'})\n",
    "\n",
    "\n",
    "    # Get the second table (indexing starts from 0)\n",
    "table = tables[1]\n",
    "\n",
    "# Extract data from the table\n",
    "rows = table.find_all('tr')  # Find all rows in the table\n",
    "\n",
    "for row in rows[1:]:\n",
    "    # Extract data from each cell in the row\n",
    "    cells = row.find_all(['th', 'td'])\n",
    "    row_data = [cell.get_text(strip=True) for cell in cells]\n",
    "\n",
    "    # Append row data to HIV_data\n",
    "    HIV_time_data.append(row_data)\n",
    "\n",
    "# Extract headers from the first row\n",
    "headers = [header.get_text(strip=True) for header in rows[0].find_all('th')]\n",
    "\n",
    "# Convert HIV_data into a pandas DataFrame\n",
    "HIV_time_df = pd.DataFrame(HIV_time_data, columns=headers)\n",
    "\n",
    "\n",
    "# remove commas\n",
    "for column in HIV_time_df.columns:\n",
    "    if HIV_time_df[column].dtype == 'object':  # Check if the column contains strings\n",
    "        HIV_time_df[column] = HIV_time_df[column].str.replace(',', '').str.replace(' ', '').str.replace('%','')\n",
    "\n",
    "\n",
    "# convert data to float for plotting\n",
    "HIV_time_df = HIV_time_df.astype(int)\n",
    "\n",
    "HIV_time_df.set_index('Year', inplace=True)\n",
    "\n",
    "\n",
    "HIV_time_df"
   ]
  },
  {
   "cell_type": "markdown",
   "id": "ebc96198",
   "metadata": {},
   "source": [
    "### World Data"
   ]
  },
  {
   "cell_type": "code",
   "execution_count": 41,
   "id": "bb284816",
   "metadata": {},
   "outputs": [
    {
     "data": {
      "text/html": [
       "<div>\n",
       "<style scoped>\n",
       "    .dataframe tbody tr th:only-of-type {\n",
       "        vertical-align: middle;\n",
       "    }\n",
       "\n",
       "    .dataframe tbody tr th {\n",
       "        vertical-align: top;\n",
       "    }\n",
       "\n",
       "    .dataframe thead th {\n",
       "        text-align: right;\n",
       "    }\n",
       "</style>\n",
       "<table border=\"1\" class=\"dataframe\">\n",
       "  <thead>\n",
       "    <tr style=\"text-align: right;\">\n",
       "      <th></th>\n",
       "      <th>Adult HIV % (ages 15–49)</th>\n",
       "      <th>Persons livingwith HIV</th>\n",
       "      <th>Anual Deaths from AIDS</th>\n",
       "      <th>Anual New HIV Infections</th>\n",
       "    </tr>\n",
       "    <tr>\n",
       "      <th>World region</th>\n",
       "      <th></th>\n",
       "      <th></th>\n",
       "      <th></th>\n",
       "      <th></th>\n",
       "    </tr>\n",
       "  </thead>\n",
       "  <tbody>\n",
       "    <tr>\n",
       "      <th>Worldwide</th>\n",
       "      <td>0.8</td>\n",
       "      <td>34000000</td>\n",
       "      <td>1700000</td>\n",
       "      <td>2500000</td>\n",
       "    </tr>\n",
       "    <tr>\n",
       "      <th>Sub-Saharan Africa</th>\n",
       "      <td>4.9</td>\n",
       "      <td>23500000</td>\n",
       "      <td>1200000</td>\n",
       "      <td>1800000</td>\n",
       "    </tr>\n",
       "    <tr>\n",
       "      <th>South and Southeast Asia</th>\n",
       "      <td>0.3</td>\n",
       "      <td>4000000</td>\n",
       "      <td>250000</td>\n",
       "      <td>280000</td>\n",
       "    </tr>\n",
       "    <tr>\n",
       "      <th>Eastern Europe and Central Asia</th>\n",
       "      <td>1.0</td>\n",
       "      <td>1400000</td>\n",
       "      <td>92000</td>\n",
       "      <td>140000</td>\n",
       "    </tr>\n",
       "    <tr>\n",
       "      <th>East Asia</th>\n",
       "      <td>0.1</td>\n",
       "      <td>830000</td>\n",
       "      <td>59000</td>\n",
       "      <td>89000</td>\n",
       "    </tr>\n",
       "    <tr>\n",
       "      <th>Latin America</th>\n",
       "      <td>0.4</td>\n",
       "      <td>1400000</td>\n",
       "      <td>54000</td>\n",
       "      <td>83000</td>\n",
       "    </tr>\n",
       "    <tr>\n",
       "      <th>Middle East and North Africa</th>\n",
       "      <td>0.2</td>\n",
       "      <td>300000</td>\n",
       "      <td>23000</td>\n",
       "      <td>37000</td>\n",
       "    </tr>\n",
       "    <tr>\n",
       "      <th>North America</th>\n",
       "      <td>0.6</td>\n",
       "      <td>1400000</td>\n",
       "      <td>21000</td>\n",
       "      <td>51000</td>\n",
       "    </tr>\n",
       "    <tr>\n",
       "      <th>Caribbean</th>\n",
       "      <td>1.0</td>\n",
       "      <td>230000</td>\n",
       "      <td>10000</td>\n",
       "      <td>13000</td>\n",
       "    </tr>\n",
       "    <tr>\n",
       "      <th>Western and Central Europe</th>\n",
       "      <td>0.2</td>\n",
       "      <td>900000</td>\n",
       "      <td>7000</td>\n",
       "      <td>30000</td>\n",
       "    </tr>\n",
       "    <tr>\n",
       "      <th>Oceania</th>\n",
       "      <td>0.3</td>\n",
       "      <td>53000</td>\n",
       "      <td>1300</td>\n",
       "      <td>2900</td>\n",
       "    </tr>\n",
       "  </tbody>\n",
       "</table>\n",
       "</div>"
      ],
      "text/plain": [
       "                                Adult HIV % (ages 15–49)  \\\n",
       "World region                                               \n",
       "Worldwide                                            0.8   \n",
       "Sub-Saharan Africa                                   4.9   \n",
       "South and Southeast Asia                             0.3   \n",
       "Eastern Europe and Central Asia                      1.0   \n",
       "East Asia                                            0.1   \n",
       "Latin America                                        0.4   \n",
       "Middle East and North Africa                         0.2   \n",
       "North America                                        0.6   \n",
       "Caribbean                                            1.0   \n",
       "Western and Central Europe                           0.2   \n",
       "Oceania                                              0.3   \n",
       "\n",
       "                                Persons livingwith HIV Anual Deaths from AIDS  \\\n",
       "World region                                                                    \n",
       "Worldwide                                     34000000                1700000   \n",
       "Sub-Saharan Africa                            23500000                1200000   \n",
       "South and Southeast Asia                       4000000                 250000   \n",
       "Eastern Europe and Central Asia                1400000                  92000   \n",
       "East Asia                                       830000                  59000   \n",
       "Latin America                                  1400000                  54000   \n",
       "Middle East and North Africa                    300000                  23000   \n",
       "North America                                  1400000                  21000   \n",
       "Caribbean                                       230000                  10000   \n",
       "Western and Central Europe                      900000                   7000   \n",
       "Oceania                                          53000                   1300   \n",
       "\n",
       "                                Anual New HIV Infections  \n",
       "World region                                              \n",
       "Worldwide                                        2500000  \n",
       "Sub-Saharan Africa                               1800000  \n",
       "South and Southeast Asia                          280000  \n",
       "Eastern Europe and Central Asia                   140000  \n",
       "East Asia                                          89000  \n",
       "Latin America                                      83000  \n",
       "Middle East and North Africa                       37000  \n",
       "North America                                      51000  \n",
       "Caribbean                                          13000  \n",
       "Western and Central Europe                         30000  \n",
       "Oceania                                             2900  "
      ]
     },
     "metadata": {},
     "output_type": "display_data"
    }
   ],
   "source": [
    "World_Data = []\n",
    "\n",
    "url = 'https://en.wikipedia.org/wiki/HIV/AIDS_in_Africa'\n",
    "\n",
    "# Send a GET request to the URL\n",
    "response = requests.get(url)\n",
    "\n",
    "# Parse the HTML content using BeautifulSoup\n",
    "soup = BeautifulSoup(response.text, 'html.parser')\n",
    "\n",
    "# Find all tables with the class 'wikitable sortable'\n",
    "tables = soup.find_all('table', {'class': 'sortable wikitable'})\n",
    "\n",
    "\n",
    "    # Get the second table (indexing starts from 0)\n",
    "table = tables[0]\n",
    "\n",
    "# Extract data from the table\n",
    "rows = table.find_all('tr')  # Find all rows in the table\n",
    "\n",
    "for row in rows[1:]:\n",
    "    # Extract data from each cell in the row\n",
    "    cells = row.find_all(['th', 'td'])\n",
    "    row_data = [cell.get_text(strip=True) for cell in cells]\n",
    "\n",
    "    # Append row data to HIV_data\n",
    "    World_Data.append(row_data)\n",
    "\n",
    "# Extract headers from the first row\n",
    "headers = [header.get_text(strip=True) for header in rows[0].find_all('th')]\n",
    "\n",
    "# Convert HIV_data into a pandas DataFrame\n",
    "World_df = pd.DataFrame(World_Data, columns=headers)\n",
    "\n",
    "\n",
    "\n",
    "\n",
    "# remove % signs and commas\n",
    "for column in World_df.columns:\n",
    "    if World_df[column].dtype == 'object':  # Check if the column contains strings\n",
    "        World_df[column] = World_df[column].str.replace('%','').str.replace(',','')\n",
    "\n",
    "\n",
    "# rename some columns\n",
    "World_df.rename(columns={'Adult HIV prevalence(ages 15–49)[13]': 'Adult HIV % (ages 15–49)'}, inplace=True)\n",
    "World_df.rename(columns={'Persons livingwith HIV[13]': 'Persons livingwith HIV'}, inplace=True)\n",
    "World_df.rename(columns={'AIDS deaths, annual[13]': 'Anual Deaths from AIDS'}, inplace=True)\n",
    "World_df.rename(columns={'New HIVinfections, annual[3]': 'Anual New HIV Infections'}, inplace=True)\n",
    "\n",
    "World_df.set_index('World region', inplace=True)\n",
    "\n",
    "\n",
    "display(World_df)"
   ]
  },
  {
   "cell_type": "markdown",
   "id": "61466098",
   "metadata": {},
   "source": [
    "## Plots\n",
    "### Plot Inspeting World HIV/AIDs Prevelence"
   ]
  },
  {
   "cell_type": "code",
   "execution_count": 59,
   "id": "65d538cb",
   "metadata": {},
   "outputs": [
    {
     "data": {
      "application/vnd.plotly.v1+json": {
       "config": {
        "plotlyServerURL": "https://plot.ly"
       },
       "data": [
        {
         "coloraxis": "coloraxis",
         "geo": "geo",
         "hovertemplate": "<b>%{hovertext}</b><br><br>locations=%{location}<br>color=%{z}<extra></extra>",
         "hovertext": [
          "Worldwide",
          "Sub-Saharan Africa",
          "South and Southeast Asia",
          "Eastern Europe and Central Asia",
          "East Asia",
          "Latin America",
          "Middle East and North Africa",
          "North America",
          "Caribbean",
          "Western and Central Europe",
          "Oceania"
         ],
         "locationmode": "country names",
         "locations": [
          "World",
          "Sub-Saharan Africa",
          "Asia",
          "Europe",
          "Asia",
          "South America",
          "Africa",
          "North America",
          "Caribbean",
          "Europe",
          "Oceania"
         ],
         "name": "",
         "type": "choropleth",
         "z": [
          0.8,
          4.9,
          0.3,
          1,
          0.1,
          0.4,
          0.2,
          0.6,
          1,
          0.2,
          0.3
         ]
        }
       ],
       "layout": {
        "coloraxis": {
         "colorbar": {
          "title": {
           "text": "color"
          }
         },
         "colorscale": [
          [
           0,
           "#0d0887"
          ],
          [
           0.1111111111111111,
           "#46039f"
          ],
          [
           0.2222222222222222,
           "#7201a8"
          ],
          [
           0.3333333333333333,
           "#9c179e"
          ],
          [
           0.4444444444444444,
           "#bd3786"
          ],
          [
           0.5555555555555556,
           "#d8576b"
          ],
          [
           0.6666666666666666,
           "#ed7953"
          ],
          [
           0.7777777777777778,
           "#fb9f3a"
          ],
          [
           0.8888888888888888,
           "#fdca26"
          ],
          [
           1,
           "#f0f921"
          ]
         ]
        },
        "geo": {
         "center": {},
         "domain": {
          "x": [
           0,
           1
          ],
          "y": [
           0,
           1
          ]
         }
        },
        "legend": {
         "tracegroupgap": 0
        },
        "template": {
         "data": {
          "bar": [
           {
            "error_x": {
             "color": "#2a3f5f"
            },
            "error_y": {
             "color": "#2a3f5f"
            },
            "marker": {
             "line": {
              "color": "#E5ECF6",
              "width": 0.5
             },
             "pattern": {
              "fillmode": "overlay",
              "size": 10,
              "solidity": 0.2
             }
            },
            "type": "bar"
           }
          ],
          "barpolar": [
           {
            "marker": {
             "line": {
              "color": "#E5ECF6",
              "width": 0.5
             },
             "pattern": {
              "fillmode": "overlay",
              "size": 10,
              "solidity": 0.2
             }
            },
            "type": "barpolar"
           }
          ],
          "carpet": [
           {
            "aaxis": {
             "endlinecolor": "#2a3f5f",
             "gridcolor": "white",
             "linecolor": "white",
             "minorgridcolor": "white",
             "startlinecolor": "#2a3f5f"
            },
            "baxis": {
             "endlinecolor": "#2a3f5f",
             "gridcolor": "white",
             "linecolor": "white",
             "minorgridcolor": "white",
             "startlinecolor": "#2a3f5f"
            },
            "type": "carpet"
           }
          ],
          "choropleth": [
           {
            "colorbar": {
             "outlinewidth": 0,
             "ticks": ""
            },
            "type": "choropleth"
           }
          ],
          "contour": [
           {
            "colorbar": {
             "outlinewidth": 0,
             "ticks": ""
            },
            "colorscale": [
             [
              0,
              "#0d0887"
             ],
             [
              0.1111111111111111,
              "#46039f"
             ],
             [
              0.2222222222222222,
              "#7201a8"
             ],
             [
              0.3333333333333333,
              "#9c179e"
             ],
             [
              0.4444444444444444,
              "#bd3786"
             ],
             [
              0.5555555555555556,
              "#d8576b"
             ],
             [
              0.6666666666666666,
              "#ed7953"
             ],
             [
              0.7777777777777778,
              "#fb9f3a"
             ],
             [
              0.8888888888888888,
              "#fdca26"
             ],
             [
              1,
              "#f0f921"
             ]
            ],
            "type": "contour"
           }
          ],
          "contourcarpet": [
           {
            "colorbar": {
             "outlinewidth": 0,
             "ticks": ""
            },
            "type": "contourcarpet"
           }
          ],
          "heatmap": [
           {
            "colorbar": {
             "outlinewidth": 0,
             "ticks": ""
            },
            "colorscale": [
             [
              0,
              "#0d0887"
             ],
             [
              0.1111111111111111,
              "#46039f"
             ],
             [
              0.2222222222222222,
              "#7201a8"
             ],
             [
              0.3333333333333333,
              "#9c179e"
             ],
             [
              0.4444444444444444,
              "#bd3786"
             ],
             [
              0.5555555555555556,
              "#d8576b"
             ],
             [
              0.6666666666666666,
              "#ed7953"
             ],
             [
              0.7777777777777778,
              "#fb9f3a"
             ],
             [
              0.8888888888888888,
              "#fdca26"
             ],
             [
              1,
              "#f0f921"
             ]
            ],
            "type": "heatmap"
           }
          ],
          "heatmapgl": [
           {
            "colorbar": {
             "outlinewidth": 0,
             "ticks": ""
            },
            "colorscale": [
             [
              0,
              "#0d0887"
             ],
             [
              0.1111111111111111,
              "#46039f"
             ],
             [
              0.2222222222222222,
              "#7201a8"
             ],
             [
              0.3333333333333333,
              "#9c179e"
             ],
             [
              0.4444444444444444,
              "#bd3786"
             ],
             [
              0.5555555555555556,
              "#d8576b"
             ],
             [
              0.6666666666666666,
              "#ed7953"
             ],
             [
              0.7777777777777778,
              "#fb9f3a"
             ],
             [
              0.8888888888888888,
              "#fdca26"
             ],
             [
              1,
              "#f0f921"
             ]
            ],
            "type": "heatmapgl"
           }
          ],
          "histogram": [
           {
            "marker": {
             "pattern": {
              "fillmode": "overlay",
              "size": 10,
              "solidity": 0.2
             }
            },
            "type": "histogram"
           }
          ],
          "histogram2d": [
           {
            "colorbar": {
             "outlinewidth": 0,
             "ticks": ""
            },
            "colorscale": [
             [
              0,
              "#0d0887"
             ],
             [
              0.1111111111111111,
              "#46039f"
             ],
             [
              0.2222222222222222,
              "#7201a8"
             ],
             [
              0.3333333333333333,
              "#9c179e"
             ],
             [
              0.4444444444444444,
              "#bd3786"
             ],
             [
              0.5555555555555556,
              "#d8576b"
             ],
             [
              0.6666666666666666,
              "#ed7953"
             ],
             [
              0.7777777777777778,
              "#fb9f3a"
             ],
             [
              0.8888888888888888,
              "#fdca26"
             ],
             [
              1,
              "#f0f921"
             ]
            ],
            "type": "histogram2d"
           }
          ],
          "histogram2dcontour": [
           {
            "colorbar": {
             "outlinewidth": 0,
             "ticks": ""
            },
            "colorscale": [
             [
              0,
              "#0d0887"
             ],
             [
              0.1111111111111111,
              "#46039f"
             ],
             [
              0.2222222222222222,
              "#7201a8"
             ],
             [
              0.3333333333333333,
              "#9c179e"
             ],
             [
              0.4444444444444444,
              "#bd3786"
             ],
             [
              0.5555555555555556,
              "#d8576b"
             ],
             [
              0.6666666666666666,
              "#ed7953"
             ],
             [
              0.7777777777777778,
              "#fb9f3a"
             ],
             [
              0.8888888888888888,
              "#fdca26"
             ],
             [
              1,
              "#f0f921"
             ]
            ],
            "type": "histogram2dcontour"
           }
          ],
          "mesh3d": [
           {
            "colorbar": {
             "outlinewidth": 0,
             "ticks": ""
            },
            "type": "mesh3d"
           }
          ],
          "parcoords": [
           {
            "line": {
             "colorbar": {
              "outlinewidth": 0,
              "ticks": ""
             }
            },
            "type": "parcoords"
           }
          ],
          "pie": [
           {
            "automargin": true,
            "type": "pie"
           }
          ],
          "scatter": [
           {
            "fillpattern": {
             "fillmode": "overlay",
             "size": 10,
             "solidity": 0.2
            },
            "type": "scatter"
           }
          ],
          "scatter3d": [
           {
            "line": {
             "colorbar": {
              "outlinewidth": 0,
              "ticks": ""
             }
            },
            "marker": {
             "colorbar": {
              "outlinewidth": 0,
              "ticks": ""
             }
            },
            "type": "scatter3d"
           }
          ],
          "scattercarpet": [
           {
            "marker": {
             "colorbar": {
              "outlinewidth": 0,
              "ticks": ""
             }
            },
            "type": "scattercarpet"
           }
          ],
          "scattergeo": [
           {
            "marker": {
             "colorbar": {
              "outlinewidth": 0,
              "ticks": ""
             }
            },
            "type": "scattergeo"
           }
          ],
          "scattergl": [
           {
            "marker": {
             "colorbar": {
              "outlinewidth": 0,
              "ticks": ""
             }
            },
            "type": "scattergl"
           }
          ],
          "scattermapbox": [
           {
            "marker": {
             "colorbar": {
              "outlinewidth": 0,
              "ticks": ""
             }
            },
            "type": "scattermapbox"
           }
          ],
          "scatterpolar": [
           {
            "marker": {
             "colorbar": {
              "outlinewidth": 0,
              "ticks": ""
             }
            },
            "type": "scatterpolar"
           }
          ],
          "scatterpolargl": [
           {
            "marker": {
             "colorbar": {
              "outlinewidth": 0,
              "ticks": ""
             }
            },
            "type": "scatterpolargl"
           }
          ],
          "scatterternary": [
           {
            "marker": {
             "colorbar": {
              "outlinewidth": 0,
              "ticks": ""
             }
            },
            "type": "scatterternary"
           }
          ],
          "surface": [
           {
            "colorbar": {
             "outlinewidth": 0,
             "ticks": ""
            },
            "colorscale": [
             [
              0,
              "#0d0887"
             ],
             [
              0.1111111111111111,
              "#46039f"
             ],
             [
              0.2222222222222222,
              "#7201a8"
             ],
             [
              0.3333333333333333,
              "#9c179e"
             ],
             [
              0.4444444444444444,
              "#bd3786"
             ],
             [
              0.5555555555555556,
              "#d8576b"
             ],
             [
              0.6666666666666666,
              "#ed7953"
             ],
             [
              0.7777777777777778,
              "#fb9f3a"
             ],
             [
              0.8888888888888888,
              "#fdca26"
             ],
             [
              1,
              "#f0f921"
             ]
            ],
            "type": "surface"
           }
          ],
          "table": [
           {
            "cells": {
             "fill": {
              "color": "#EBF0F8"
             },
             "line": {
              "color": "white"
             }
            },
            "header": {
             "fill": {
              "color": "#C8D4E3"
             },
             "line": {
              "color": "white"
             }
            },
            "type": "table"
           }
          ]
         },
         "layout": {
          "annotationdefaults": {
           "arrowcolor": "#2a3f5f",
           "arrowhead": 0,
           "arrowwidth": 1
          },
          "autotypenumbers": "strict",
          "coloraxis": {
           "colorbar": {
            "outlinewidth": 0,
            "ticks": ""
           }
          },
          "colorscale": {
           "diverging": [
            [
             0,
             "#8e0152"
            ],
            [
             0.1,
             "#c51b7d"
            ],
            [
             0.2,
             "#de77ae"
            ],
            [
             0.3,
             "#f1b6da"
            ],
            [
             0.4,
             "#fde0ef"
            ],
            [
             0.5,
             "#f7f7f7"
            ],
            [
             0.6,
             "#e6f5d0"
            ],
            [
             0.7,
             "#b8e186"
            ],
            [
             0.8,
             "#7fbc41"
            ],
            [
             0.9,
             "#4d9221"
            ],
            [
             1,
             "#276419"
            ]
           ],
           "sequential": [
            [
             0,
             "#0d0887"
            ],
            [
             0.1111111111111111,
             "#46039f"
            ],
            [
             0.2222222222222222,
             "#7201a8"
            ],
            [
             0.3333333333333333,
             "#9c179e"
            ],
            [
             0.4444444444444444,
             "#bd3786"
            ],
            [
             0.5555555555555556,
             "#d8576b"
            ],
            [
             0.6666666666666666,
             "#ed7953"
            ],
            [
             0.7777777777777778,
             "#fb9f3a"
            ],
            [
             0.8888888888888888,
             "#fdca26"
            ],
            [
             1,
             "#f0f921"
            ]
           ],
           "sequentialminus": [
            [
             0,
             "#0d0887"
            ],
            [
             0.1111111111111111,
             "#46039f"
            ],
            [
             0.2222222222222222,
             "#7201a8"
            ],
            [
             0.3333333333333333,
             "#9c179e"
            ],
            [
             0.4444444444444444,
             "#bd3786"
            ],
            [
             0.5555555555555556,
             "#d8576b"
            ],
            [
             0.6666666666666666,
             "#ed7953"
            ],
            [
             0.7777777777777778,
             "#fb9f3a"
            ],
            [
             0.8888888888888888,
             "#fdca26"
            ],
            [
             1,
             "#f0f921"
            ]
           ]
          },
          "colorway": [
           "#636efa",
           "#EF553B",
           "#00cc96",
           "#ab63fa",
           "#FFA15A",
           "#19d3f3",
           "#FF6692",
           "#B6E880",
           "#FF97FF",
           "#FECB52"
          ],
          "font": {
           "color": "#2a3f5f"
          },
          "geo": {
           "bgcolor": "white",
           "lakecolor": "white",
           "landcolor": "#E5ECF6",
           "showlakes": true,
           "showland": true,
           "subunitcolor": "white"
          },
          "hoverlabel": {
           "align": "left"
          },
          "hovermode": "closest",
          "mapbox": {
           "style": "light"
          },
          "paper_bgcolor": "white",
          "plot_bgcolor": "#E5ECF6",
          "polar": {
           "angularaxis": {
            "gridcolor": "white",
            "linecolor": "white",
            "ticks": ""
           },
           "bgcolor": "#E5ECF6",
           "radialaxis": {
            "gridcolor": "white",
            "linecolor": "white",
            "ticks": ""
           }
          },
          "scene": {
           "xaxis": {
            "backgroundcolor": "#E5ECF6",
            "gridcolor": "white",
            "gridwidth": 2,
            "linecolor": "white",
            "showbackground": true,
            "ticks": "",
            "zerolinecolor": "white"
           },
           "yaxis": {
            "backgroundcolor": "#E5ECF6",
            "gridcolor": "white",
            "gridwidth": 2,
            "linecolor": "white",
            "showbackground": true,
            "ticks": "",
            "zerolinecolor": "white"
           },
           "zaxis": {
            "backgroundcolor": "#E5ECF6",
            "gridcolor": "white",
            "gridwidth": 2,
            "linecolor": "white",
            "showbackground": true,
            "ticks": "",
            "zerolinecolor": "white"
           }
          },
          "shapedefaults": {
           "line": {
            "color": "#2a3f5f"
           }
          },
          "ternary": {
           "aaxis": {
            "gridcolor": "white",
            "linecolor": "white",
            "ticks": ""
           },
           "baxis": {
            "gridcolor": "white",
            "linecolor": "white",
            "ticks": ""
           },
           "bgcolor": "#E5ECF6",
           "caxis": {
            "gridcolor": "white",
            "linecolor": "white",
            "ticks": ""
           }
          },
          "title": {
           "x": 0.05
          },
          "xaxis": {
           "automargin": true,
           "gridcolor": "white",
           "linecolor": "white",
           "ticks": "",
           "title": {
            "standoff": 15
           },
           "zerolinecolor": "white",
           "zerolinewidth": 2
          },
          "yaxis": {
           "automargin": true,
           "gridcolor": "white",
           "linecolor": "white",
           "ticks": "",
           "title": {
            "standoff": 15
           },
           "zerolinecolor": "white",
           "zerolinewidth": 2
          }
         }
        },
        "title": {
         "text": "Adult HIV % (ages 15–49) by World Region"
        }
       }
      },
      "text/html": [
       "<div>                            <div id=\"5bb84e45-7a4d-4a16-a177-499f07bd161a\" class=\"plotly-graph-div\" style=\"height:525px; width:100%;\"></div>            <script type=\"text/javascript\">                require([\"plotly\"], function(Plotly) {                    window.PLOTLYENV=window.PLOTLYENV || {};                                    if (document.getElementById(\"5bb84e45-7a4d-4a16-a177-499f07bd161a\")) {                    Plotly.newPlot(                        \"5bb84e45-7a4d-4a16-a177-499f07bd161a\",                        [{\"coloraxis\":\"coloraxis\",\"geo\":\"geo\",\"hovertemplate\":\"<b>%{hovertext}</b><br><br>locations=%{location}<br>color=%{z}<extra></extra>\",\"hovertext\":[\"Worldwide\",\"Sub-Saharan Africa\",\"South and Southeast Asia\",\"Eastern Europe and Central Asia\",\"East Asia\",\"Latin America\",\"Middle East and North Africa\",\"North America\",\"Caribbean\",\"Western and Central Europe\",\"Oceania\"],\"locationmode\":\"country names\",\"locations\":[\"World\",\"Sub-Saharan Africa\",\"Asia\",\"Europe\",\"Asia\",\"South America\",\"Africa\",\"North America\",\"Caribbean\",\"Europe\",\"Oceania\"],\"name\":\"\",\"z\":[0.8,4.9,0.3,1.0,0.1,0.4,0.2,0.6,1.0,0.2,0.3],\"type\":\"choropleth\"}],                        {\"template\":{\"data\":{\"histogram2dcontour\":[{\"type\":\"histogram2dcontour\",\"colorbar\":{\"outlinewidth\":0,\"ticks\":\"\"},\"colorscale\":[[0.0,\"#0d0887\"],[0.1111111111111111,\"#46039f\"],[0.2222222222222222,\"#7201a8\"],[0.3333333333333333,\"#9c179e\"],[0.4444444444444444,\"#bd3786\"],[0.5555555555555556,\"#d8576b\"],[0.6666666666666666,\"#ed7953\"],[0.7777777777777778,\"#fb9f3a\"],[0.8888888888888888,\"#fdca26\"],[1.0,\"#f0f921\"]]}],\"choropleth\":[{\"type\":\"choropleth\",\"colorbar\":{\"outlinewidth\":0,\"ticks\":\"\"}}],\"histogram2d\":[{\"type\":\"histogram2d\",\"colorbar\":{\"outlinewidth\":0,\"ticks\":\"\"},\"colorscale\":[[0.0,\"#0d0887\"],[0.1111111111111111,\"#46039f\"],[0.2222222222222222,\"#7201a8\"],[0.3333333333333333,\"#9c179e\"],[0.4444444444444444,\"#bd3786\"],[0.5555555555555556,\"#d8576b\"],[0.6666666666666666,\"#ed7953\"],[0.7777777777777778,\"#fb9f3a\"],[0.8888888888888888,\"#fdca26\"],[1.0,\"#f0f921\"]]}],\"heatmap\":[{\"type\":\"heatmap\",\"colorbar\":{\"outlinewidth\":0,\"ticks\":\"\"},\"colorscale\":[[0.0,\"#0d0887\"],[0.1111111111111111,\"#46039f\"],[0.2222222222222222,\"#7201a8\"],[0.3333333333333333,\"#9c179e\"],[0.4444444444444444,\"#bd3786\"],[0.5555555555555556,\"#d8576b\"],[0.6666666666666666,\"#ed7953\"],[0.7777777777777778,\"#fb9f3a\"],[0.8888888888888888,\"#fdca26\"],[1.0,\"#f0f921\"]]}],\"heatmapgl\":[{\"type\":\"heatmapgl\",\"colorbar\":{\"outlinewidth\":0,\"ticks\":\"\"},\"colorscale\":[[0.0,\"#0d0887\"],[0.1111111111111111,\"#46039f\"],[0.2222222222222222,\"#7201a8\"],[0.3333333333333333,\"#9c179e\"],[0.4444444444444444,\"#bd3786\"],[0.5555555555555556,\"#d8576b\"],[0.6666666666666666,\"#ed7953\"],[0.7777777777777778,\"#fb9f3a\"],[0.8888888888888888,\"#fdca26\"],[1.0,\"#f0f921\"]]}],\"contourcarpet\":[{\"type\":\"contourcarpet\",\"colorbar\":{\"outlinewidth\":0,\"ticks\":\"\"}}],\"contour\":[{\"type\":\"contour\",\"colorbar\":{\"outlinewidth\":0,\"ticks\":\"\"},\"colorscale\":[[0.0,\"#0d0887\"],[0.1111111111111111,\"#46039f\"],[0.2222222222222222,\"#7201a8\"],[0.3333333333333333,\"#9c179e\"],[0.4444444444444444,\"#bd3786\"],[0.5555555555555556,\"#d8576b\"],[0.6666666666666666,\"#ed7953\"],[0.7777777777777778,\"#fb9f3a\"],[0.8888888888888888,\"#fdca26\"],[1.0,\"#f0f921\"]]}],\"surface\":[{\"type\":\"surface\",\"colorbar\":{\"outlinewidth\":0,\"ticks\":\"\"},\"colorscale\":[[0.0,\"#0d0887\"],[0.1111111111111111,\"#46039f\"],[0.2222222222222222,\"#7201a8\"],[0.3333333333333333,\"#9c179e\"],[0.4444444444444444,\"#bd3786\"],[0.5555555555555556,\"#d8576b\"],[0.6666666666666666,\"#ed7953\"],[0.7777777777777778,\"#fb9f3a\"],[0.8888888888888888,\"#fdca26\"],[1.0,\"#f0f921\"]]}],\"mesh3d\":[{\"type\":\"mesh3d\",\"colorbar\":{\"outlinewidth\":0,\"ticks\":\"\"}}],\"scatter\":[{\"fillpattern\":{\"fillmode\":\"overlay\",\"size\":10,\"solidity\":0.2},\"type\":\"scatter\"}],\"parcoords\":[{\"type\":\"parcoords\",\"line\":{\"colorbar\":{\"outlinewidth\":0,\"ticks\":\"\"}}}],\"scatterpolargl\":[{\"type\":\"scatterpolargl\",\"marker\":{\"colorbar\":{\"outlinewidth\":0,\"ticks\":\"\"}}}],\"bar\":[{\"error_x\":{\"color\":\"#2a3f5f\"},\"error_y\":{\"color\":\"#2a3f5f\"},\"marker\":{\"line\":{\"color\":\"#E5ECF6\",\"width\":0.5},\"pattern\":{\"fillmode\":\"overlay\",\"size\":10,\"solidity\":0.2}},\"type\":\"bar\"}],\"scattergeo\":[{\"type\":\"scattergeo\",\"marker\":{\"colorbar\":{\"outlinewidth\":0,\"ticks\":\"\"}}}],\"scatterpolar\":[{\"type\":\"scatterpolar\",\"marker\":{\"colorbar\":{\"outlinewidth\":0,\"ticks\":\"\"}}}],\"histogram\":[{\"marker\":{\"pattern\":{\"fillmode\":\"overlay\",\"size\":10,\"solidity\":0.2}},\"type\":\"histogram\"}],\"scattergl\":[{\"type\":\"scattergl\",\"marker\":{\"colorbar\":{\"outlinewidth\":0,\"ticks\":\"\"}}}],\"scatter3d\":[{\"type\":\"scatter3d\",\"line\":{\"colorbar\":{\"outlinewidth\":0,\"ticks\":\"\"}},\"marker\":{\"colorbar\":{\"outlinewidth\":0,\"ticks\":\"\"}}}],\"scattermapbox\":[{\"type\":\"scattermapbox\",\"marker\":{\"colorbar\":{\"outlinewidth\":0,\"ticks\":\"\"}}}],\"scatterternary\":[{\"type\":\"scatterternary\",\"marker\":{\"colorbar\":{\"outlinewidth\":0,\"ticks\":\"\"}}}],\"scattercarpet\":[{\"type\":\"scattercarpet\",\"marker\":{\"colorbar\":{\"outlinewidth\":0,\"ticks\":\"\"}}}],\"carpet\":[{\"aaxis\":{\"endlinecolor\":\"#2a3f5f\",\"gridcolor\":\"white\",\"linecolor\":\"white\",\"minorgridcolor\":\"white\",\"startlinecolor\":\"#2a3f5f\"},\"baxis\":{\"endlinecolor\":\"#2a3f5f\",\"gridcolor\":\"white\",\"linecolor\":\"white\",\"minorgridcolor\":\"white\",\"startlinecolor\":\"#2a3f5f\"},\"type\":\"carpet\"}],\"table\":[{\"cells\":{\"fill\":{\"color\":\"#EBF0F8\"},\"line\":{\"color\":\"white\"}},\"header\":{\"fill\":{\"color\":\"#C8D4E3\"},\"line\":{\"color\":\"white\"}},\"type\":\"table\"}],\"barpolar\":[{\"marker\":{\"line\":{\"color\":\"#E5ECF6\",\"width\":0.5},\"pattern\":{\"fillmode\":\"overlay\",\"size\":10,\"solidity\":0.2}},\"type\":\"barpolar\"}],\"pie\":[{\"automargin\":true,\"type\":\"pie\"}]},\"layout\":{\"autotypenumbers\":\"strict\",\"colorway\":[\"#636efa\",\"#EF553B\",\"#00cc96\",\"#ab63fa\",\"#FFA15A\",\"#19d3f3\",\"#FF6692\",\"#B6E880\",\"#FF97FF\",\"#FECB52\"],\"font\":{\"color\":\"#2a3f5f\"},\"hovermode\":\"closest\",\"hoverlabel\":{\"align\":\"left\"},\"paper_bgcolor\":\"white\",\"plot_bgcolor\":\"#E5ECF6\",\"polar\":{\"bgcolor\":\"#E5ECF6\",\"angularaxis\":{\"gridcolor\":\"white\",\"linecolor\":\"white\",\"ticks\":\"\"},\"radialaxis\":{\"gridcolor\":\"white\",\"linecolor\":\"white\",\"ticks\":\"\"}},\"ternary\":{\"bgcolor\":\"#E5ECF6\",\"aaxis\":{\"gridcolor\":\"white\",\"linecolor\":\"white\",\"ticks\":\"\"},\"baxis\":{\"gridcolor\":\"white\",\"linecolor\":\"white\",\"ticks\":\"\"},\"caxis\":{\"gridcolor\":\"white\",\"linecolor\":\"white\",\"ticks\":\"\"}},\"coloraxis\":{\"colorbar\":{\"outlinewidth\":0,\"ticks\":\"\"}},\"colorscale\":{\"sequential\":[[0.0,\"#0d0887\"],[0.1111111111111111,\"#46039f\"],[0.2222222222222222,\"#7201a8\"],[0.3333333333333333,\"#9c179e\"],[0.4444444444444444,\"#bd3786\"],[0.5555555555555556,\"#d8576b\"],[0.6666666666666666,\"#ed7953\"],[0.7777777777777778,\"#fb9f3a\"],[0.8888888888888888,\"#fdca26\"],[1.0,\"#f0f921\"]],\"sequentialminus\":[[0.0,\"#0d0887\"],[0.1111111111111111,\"#46039f\"],[0.2222222222222222,\"#7201a8\"],[0.3333333333333333,\"#9c179e\"],[0.4444444444444444,\"#bd3786\"],[0.5555555555555556,\"#d8576b\"],[0.6666666666666666,\"#ed7953\"],[0.7777777777777778,\"#fb9f3a\"],[0.8888888888888888,\"#fdca26\"],[1.0,\"#f0f921\"]],\"diverging\":[[0,\"#8e0152\"],[0.1,\"#c51b7d\"],[0.2,\"#de77ae\"],[0.3,\"#f1b6da\"],[0.4,\"#fde0ef\"],[0.5,\"#f7f7f7\"],[0.6,\"#e6f5d0\"],[0.7,\"#b8e186\"],[0.8,\"#7fbc41\"],[0.9,\"#4d9221\"],[1,\"#276419\"]]},\"xaxis\":{\"gridcolor\":\"white\",\"linecolor\":\"white\",\"ticks\":\"\",\"title\":{\"standoff\":15},\"zerolinecolor\":\"white\",\"automargin\":true,\"zerolinewidth\":2},\"yaxis\":{\"gridcolor\":\"white\",\"linecolor\":\"white\",\"ticks\":\"\",\"title\":{\"standoff\":15},\"zerolinecolor\":\"white\",\"automargin\":true,\"zerolinewidth\":2},\"scene\":{\"xaxis\":{\"backgroundcolor\":\"#E5ECF6\",\"gridcolor\":\"white\",\"linecolor\":\"white\",\"showbackground\":true,\"ticks\":\"\",\"zerolinecolor\":\"white\",\"gridwidth\":2},\"yaxis\":{\"backgroundcolor\":\"#E5ECF6\",\"gridcolor\":\"white\",\"linecolor\":\"white\",\"showbackground\":true,\"ticks\":\"\",\"zerolinecolor\":\"white\",\"gridwidth\":2},\"zaxis\":{\"backgroundcolor\":\"#E5ECF6\",\"gridcolor\":\"white\",\"linecolor\":\"white\",\"showbackground\":true,\"ticks\":\"\",\"zerolinecolor\":\"white\",\"gridwidth\":2}},\"shapedefaults\":{\"line\":{\"color\":\"#2a3f5f\"}},\"annotationdefaults\":{\"arrowcolor\":\"#2a3f5f\",\"arrowhead\":0,\"arrowwidth\":1},\"geo\":{\"bgcolor\":\"white\",\"landcolor\":\"#E5ECF6\",\"subunitcolor\":\"white\",\"showland\":true,\"showlakes\":true,\"lakecolor\":\"white\"},\"title\":{\"x\":0.05},\"mapbox\":{\"style\":\"light\"}}},\"geo\":{\"domain\":{\"x\":[0.0,1.0],\"y\":[0.0,1.0]},\"center\":{}},\"coloraxis\":{\"colorbar\":{\"title\":{\"text\":\"color\"}},\"colorscale\":[[0.0,\"#0d0887\"],[0.1111111111111111,\"#46039f\"],[0.2222222222222222,\"#7201a8\"],[0.3333333333333333,\"#9c179e\"],[0.4444444444444444,\"#bd3786\"],[0.5555555555555556,\"#d8576b\"],[0.6666666666666666,\"#ed7953\"],[0.7777777777777778,\"#fb9f3a\"],[0.8888888888888888,\"#fdca26\"],[1.0,\"#f0f921\"]]},\"legend\":{\"tracegroupgap\":0},\"title\":{\"text\":\"Adult HIV % (ages 15\\u201349) by World Region\"}},                        {\"responsive\": true}                    ).then(function(){\n",
       "                            \n",
       "var gd = document.getElementById('5bb84e45-7a4d-4a16-a177-499f07bd161a');\n",
       "var x = new MutationObserver(function (mutations, observer) {{\n",
       "        var display = window.getComputedStyle(gd).display;\n",
       "        if (!display || display === 'none') {{\n",
       "            console.log([gd, 'removed!']);\n",
       "            Plotly.purge(gd);\n",
       "            observer.disconnect();\n",
       "        }}\n",
       "}});\n",
       "\n",
       "// Listen for the removal of the full notebook cells\n",
       "var notebookContainer = gd.closest('#notebook-container');\n",
       "if (notebookContainer) {{\n",
       "    x.observe(notebookContainer, {childList: true});\n",
       "}}\n",
       "\n",
       "// Listen for the clearing of the current output cell\n",
       "var outputEl = gd.closest('.output');\n",
       "if (outputEl) {{\n",
       "    x.observe(outputEl, {childList: true});\n",
       "}}\n",
       "\n",
       "                        })                };                });            </script>        </div>"
      ]
     },
     "metadata": {},
     "output_type": "display_data"
    }
   ],
   "source": [
    "import plotly.express as px\n",
    "import pandas as pd\n",
    "\n",
    "# Data\n",
    "data = {\n",
    "    'World region': ['Worldwide', 'Sub-Saharan Africa', 'South and Southeast Asia', \n",
    "                     'Eastern Europe and Central Asia', 'East Asia', 'Latin America', \n",
    "                     'Middle East and North Africa', 'North America', 'Caribbean', \n",
    "                     'Western and Central Europe', 'Oceania'],\n",
    "    'Adult HIV % (ages 15–49)': [0.8, 4.9, 0.3, 1.0, 0.1, 0.4, 0.2, 0.6, 1.0, 0.2, 0.3]\n",
    "}\n",
    "\n",
    "# Create a DataFrame\n",
    "df = pd.DataFrame(data)\n",
    "\n",
    "# Define mapping between region names and countries\n",
    "region_mapping = {\n",
    "    'Worldwide': 'World',\n",
    "    'Sub-Saharan Africa': 'Sub-Saharan Africa',\n",
    "    'South and Southeast Asia': 'Asia',\n",
    "    'Eastern Europe and Central Asia': 'Europe',\n",
    "    'East Asia': 'Asia',\n",
    "    'Latin America': 'South America',\n",
    "    'Middle East and North Africa': 'Africa',\n",
    "    'North America': 'North America',\n",
    "    'Caribbean': 'Caribbean',\n",
    "    'Western and Central Europe': 'Europe',\n",
    "    'Oceania': 'Oceania'\n",
    "}\n",
    "\n",
    "# Map the regions to countries recognized by Plotly\n",
    "df['Country'] = df['World region'].map(region_mapping)\n",
    "\n",
    "# Plot the map\n",
    "fig = px.choropleth(locations=df['Country'], \n",
    "                    locationmode='country names',\n",
    "                    color=df['Adult HIV % (ages 15–49)'],\n",
    "                    hover_name=df['World region'],\n",
    "                    color_continuous_scale=px.colors.sequential.Plasma,\n",
    "                    title='Adult HIV % (ages 15–49) by World Region')\n",
    "fig.show()\n",
    "\n"
   ]
  },
  {
   "cell_type": "markdown",
   "id": "8f7547ba",
   "metadata": {},
   "source": [
    "### Plot Inspecting African Countries"
   ]
  },
  {
   "cell_type": "code",
   "execution_count": 56,
   "id": "6c1858c2",
   "metadata": {},
   "outputs": [
    {
     "data": {
      "image/png": "[encoded data removed]",
      "text/plain": [
       "<Figure size 1000x600 with 1 Axes>"
      ]
     },
     "metadata": {},
     "output_type": "display_data"
    }
   ],
   "source": [
    "\n",
    "# Select top 10 countries by % of adults with HIV/AIDS\n",
    "top_ten = merged_df.head(10).astype(int)\n",
    "\n",
    "# Plotting\n",
    "plt.figure(figsize=(10, 6))\n",
    "sns.barplot(data=top_ten, \n",
    "            x='% of adults with HIV/AIDS', \n",
    "            y=top_ten.index,  # Using the index directly here\n",
    "            palette='pastel')\n",
    "\n",
    "plt.title('Top 10 Countries by % of Adults with HIV/AIDS')\n",
    "plt.xlabel('% of adults with HIV/AIDS')\n",
    "plt.ylabel('Country')\n",
    "\n",
    "# Show plot\n",
    "plt.tight_layout()\n",
    "plt.savefig(r'Images/Top_10_percent_HIV.png')\n",
    "plt.show()\n"
   ]
  }
 ],
 "metadata": {
  "kernelspec": {
   "display_name": "Python 3 (ipykernel)",
   "language": "python",
   "name": "python3"
  },
  "language_info": {
   "codemirror_mode": {
    "name": "ipython",
    "version": 3
   },
   "file_extension": ".py",
   "mimetype": "text/x-python",
   "name": "python",
   "nbconvert_exporter": "python",
   "pygments_lexer": "ipython3",
   "version": "3.9.13"
  }
 },
 "nbformat": 4,
 "nbformat_minor": 5
}
